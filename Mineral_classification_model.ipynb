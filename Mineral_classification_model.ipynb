{
  "nbformat": 4,
  "nbformat_minor": 0,
  "metadata": {
    "colab": {
      "provenance": [],
      "authorship_tag": "ABX9TyOsm1N57YU/pmq+eF7BTQLb",
      "include_colab_link": true
    },
    "kernelspec": {
      "name": "python3",
      "display_name": "Python 3"
    },
    "language_info": {
      "name": "python"
    }
  },
  "cells": [
    {
      "cell_type": "markdown",
      "metadata": {
        "id": "view-in-github",
        "colab_type": "text"
      },
      "source": [
        "<a href=\"https://colab.research.google.com/github/BU0x01/Projects/blob/main/Mineral_classification_model.ipynb\" target=\"_parent\"><img src=\"https://colab.research.google.com/assets/colab-badge.svg\" alt=\"Open In Colab\"/></a>"
      ]
    },
    {
      "cell_type": "code",
      "execution_count": 6,
      "metadata": {
        "colab": {
          "base_uri": "https://localhost:8080/"
        },
        "id": "qixIpf5pi-Lz",
        "outputId": "2d401697-6b20-4f31-c94d-c9ed6685f5e0"
      },
      "outputs": [
        {
          "output_type": "stream",
          "name": "stdout",
          "text": [
            "Drive already mounted at /content/drive; to attempt to forcibly remount, call drive.mount(\"/content/drive\", force_remount=True).\n",
            "Warning: Unable to read /content/drive/MyDrive/MineralsDataset/minet/quartz/.ipynb_checkpoints\n",
            "Warning: Unable to read /content/drive/MyDrive/MineralsDataset/minet/malachite/.ipynb_checkpoints\n",
            "Warning: Unable to read /content/drive/MyDrive/MineralsDataset/minet/chrysocolla/.ipynb_checkpoints\n",
            "Warning: Unable to read /content/drive/MyDrive/MineralsDataset/minet/bornite/114. bornite.gif\n"
          ]
        },
        {
          "output_type": "stream",
          "name": "stderr",
          "text": [
            "/usr/local/lib/python3.11/dist-packages/keras/src/layers/convolutional/base_conv.py:107: UserWarning: Do not pass an `input_shape`/`input_dim` argument to a layer. When using Sequential models, prefer using an `Input(shape)` object as the first layer in the model instead.\n",
            "  super().__init__(activity_regularizer=activity_regularizer, **kwargs)\n"
          ]
        },
        {
          "output_type": "stream",
          "name": "stdout",
          "text": [
            "Epoch 1/10\n",
            "\u001b[1m24/24\u001b[0m \u001b[32m━━━━━━━━━━━━━━━━━━━━\u001b[0m\u001b[37m\u001b[0m \u001b[1m32s\u001b[0m 1s/step - accuracy: 0.2627 - loss: 1.9031 - val_accuracy: 0.4920 - val_loss: 1.3792\n",
            "Epoch 2/10\n",
            "\u001b[1m24/24\u001b[0m \u001b[32m━━━━━━━━━━━━━━━━━━━━\u001b[0m\u001b[37m\u001b[0m \u001b[1m27s\u001b[0m 1s/step - accuracy: 0.5560 - loss: 1.1381 - val_accuracy: 0.5455 - val_loss: 1.1774\n",
            "Epoch 3/10\n",
            "\u001b[1m24/24\u001b[0m \u001b[32m━━━━━━━━━━━━━━━━━━━━\u001b[0m\u001b[37m\u001b[0m \u001b[1m40s\u001b[0m 1s/step - accuracy: 0.6944 - loss: 0.7889 - val_accuracy: 0.7005 - val_loss: 0.9035\n",
            "Epoch 4/10\n",
            "\u001b[1m24/24\u001b[0m \u001b[32m━━━━━━━━━━━━━━━━━━━━\u001b[0m\u001b[37m\u001b[0m \u001b[1m41s\u001b[0m 1s/step - accuracy: 0.7729 - loss: 0.6270 - val_accuracy: 0.6952 - val_loss: 0.8894\n",
            "Epoch 5/10\n",
            "\u001b[1m24/24\u001b[0m \u001b[32m━━━━━━━━━━━━━━━━━━━━\u001b[0m\u001b[37m\u001b[0m \u001b[1m43s\u001b[0m 1s/step - accuracy: 0.8122 - loss: 0.5024 - val_accuracy: 0.7380 - val_loss: 0.7995\n",
            "Epoch 6/10\n",
            "\u001b[1m24/24\u001b[0m \u001b[32m━━━━━━━━━━━━━━━━━━━━\u001b[0m\u001b[37m\u001b[0m \u001b[1m41s\u001b[0m 1s/step - accuracy: 0.8952 - loss: 0.3433 - val_accuracy: 0.7112 - val_loss: 0.9779\n",
            "Epoch 7/10\n",
            "\u001b[1m24/24\u001b[0m \u001b[32m━━━━━━━━━━━━━━━━━━━━\u001b[0m\u001b[37m\u001b[0m \u001b[1m38s\u001b[0m 1s/step - accuracy: 0.8919 - loss: 0.2856 - val_accuracy: 0.6738 - val_loss: 1.1629\n",
            "Epoch 8/10\n",
            "\u001b[1m24/24\u001b[0m \u001b[32m━━━━━━━━━━━━━━━━━━━━\u001b[0m\u001b[37m\u001b[0m \u001b[1m41s\u001b[0m 1s/step - accuracy: 0.9017 - loss: 0.2790 - val_accuracy: 0.6578 - val_loss: 1.1795\n",
            "Epoch 9/10\n",
            "\u001b[1m24/24\u001b[0m \u001b[32m━━━━━━━━━━━━━━━━━━━━\u001b[0m\u001b[37m\u001b[0m \u001b[1m47s\u001b[0m 1s/step - accuracy: 0.9315 - loss: 0.2013 - val_accuracy: 0.6845 - val_loss: 1.2298\n",
            "Epoch 10/10\n",
            "\u001b[1m24/24\u001b[0m \u001b[32m━━━━━━━━━━━━━━━━━━━━\u001b[0m\u001b[37m\u001b[0m \u001b[1m36s\u001b[0m 1s/step - accuracy: 0.8852 - loss: 0.3469 - val_accuracy: 0.7112 - val_loss: 1.1455\n"
          ]
        },
        {
          "output_type": "stream",
          "name": "stderr",
          "text": [
            "WARNING:absl:You are saving your model as an HDF5 file via `model.save()` or `keras.saving.save_model(model)`. This file format is considered legacy. We recommend using instead the native Keras format, e.g. `model.save('my_model.keras')` or `keras.saving.save_model(model, 'my_model.keras')`. \n"
          ]
        },
        {
          "output_type": "stream",
          "name": "stdout",
          "text": [
            "Model training complete. Saved to Google Drive as mineral_classifier.h5\n"
          ]
        }
      ],
      "source": [
        "# Google Colab: AI-Powered Mineral Identification with Google Drive Dataset\n",
        "\n",
        "from google.colab import drive\n",
        "import tensorflow as tf\n",
        "from tensorflow import keras\n",
        "from tensorflow.keras import layers\n",
        "import numpy as np\n",
        "import cv2\n",
        "import os\n",
        "from sklearn.model_selection import train_test_split\n",
        "\n",
        "# Mount Google Drive to access dataset\n",
        "drive.mount('/content/drive')\n",
        "\n",
        "# Set dataset path\n",
        "data_dir = \"/content/drive/MyDrive/MineralsDataset/minet\"\n",
        "classes = os.listdir(data_dir)\n",
        "\n",
        "# Load and preprocess images\n",
        "def load_data(data_dir, img_size=(128, 128)):\n",
        "    images, labels = [], []\n",
        "    for label, mineral in enumerate(classes):\n",
        "        mineral_dir = os.path.join(data_dir, mineral)\n",
        "        for img_name in os.listdir(mineral_dir):\n",
        "            img_path = os.path.join(mineral_dir, img_name)\n",
        "            img = cv2.imread(img_path)\n",
        "            if img is None:\n",
        "                print(f\"Warning: Unable to read {img_path}\")\n",
        "                continue\n",
        "            img = cv2.resize(img, img_size)\n",
        "            img = cv2.cvtColor(img, cv2.COLOR_BGR2RGB)\n",
        "            images.append(img)\n",
        "            labels.append(label)\n",
        "    return np.array(images), np.array(labels)\n",
        "\n",
        "# Load dataset\n",
        "X, y = load_data(data_dir)\n",
        "X = X / 255.0  # Normalize images\n",
        "y = keras.utils.to_categorical(y, num_classes=len(classes))\n",
        "\n",
        "# Split dataset\n",
        "X_train, X_test, y_train, y_test = train_test_split(X, y, test_size=0.2, random_state=42)\n",
        "\n",
        "# Define CNN model\n",
        "def build_model(input_shape, num_classes):\n",
        "    model = keras.Sequential([\n",
        "        layers.Conv2D(32, (3, 3), activation='relu', input_shape=input_shape),\n",
        "        layers.MaxPooling2D((2, 2)),\n",
        "        layers.Conv2D(64, (3, 3), activation='relu'),\n",
        "        layers.MaxPooling2D((2, 2)),\n",
        "        layers.Conv2D(128, (3, 3), activation='relu'),\n",
        "        layers.MaxPooling2D((2, 2)),\n",
        "        layers.Flatten(),\n",
        "        layers.Dense(128, activation='relu'),\n",
        "        layers.Dense(num_classes, activation='softmax')\n",
        "    ])\n",
        "\n",
        "    model.compile(optimizer='adam', loss='categorical_crossentropy', metrics=['accuracy'])\n",
        "    return model\n",
        "\n",
        "# Build and train model\n",
        "model = build_model(input_shape=(128, 128, 3), num_classes=len(classes))\n",
        "model.fit(X_train, y_train, epochs=10, validation_data=(X_test, y_test))\n",
        "\n",
        "# Save model to Google Drive\n",
        "model.save(\"/content/drive/MyDrive/mineral_classifier.h5\")\n",
        "\n",
        "print(\"Model training complete. Saved to Google Drive as mineral_classifier.h5\")\n"
      ]
    }
  ]
}